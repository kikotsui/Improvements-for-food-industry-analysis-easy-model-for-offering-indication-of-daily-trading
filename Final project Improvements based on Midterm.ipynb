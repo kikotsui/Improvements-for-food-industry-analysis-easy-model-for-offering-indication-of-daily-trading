{
 "cells": [
  {
   "cell_type": "code",
   "execution_count": null,
   "id": "19098e08",
   "metadata": {},
   "outputs": [],
   "source": [
    "import pandas as pd\n",
    "import numpy as np\n",
    "import statsmodels.api as sm\n",
    "import matplotlib.pyplot as plt\n",
    "\n",
    "# Load data\n",
    "data= pd.read_csv('Project.csv')\n",
    "\n",
    "#check for missing values\n",
    "print(data.isnull().sum())\n",
    "\n",
    "#impute missing values with mean\n",
    "data.fillna(data.mean(), inplace=True)\n",
    "\n",
    "#Descriptive statistics\n",
    "desc_stats= data.describe()\n",
    "print(desc_stats)\n",
    "\n",
    "# Plot histograms for each variable\n",
    "data.hist(bins=10, figsize=(12,8))\n",
    "plt.show()"
   ]
  },
  {
   "cell_type": "code",
   "execution_count": 2,
   "id": "91fde4bc",
   "metadata": {},
   "outputs": [
    {
     "name": "stdout",
     "output_type": "stream",
     "text": [
      "DATE                     object\n",
      "Food Expenditures       float64\n",
      "GDP                     float64\n",
      "S&P 500                 float64\n",
      "Home Price Index        float64\n",
      "Unemployed Rate         float64\n",
      "Real Personal Income    float64\n",
      "Retail Sales            float64\n",
      "CPI                     float64\n",
      "dtype: object\n",
      "DATE                    float64\n",
      "Food Expenditures       float64\n",
      "GDP                     float64\n",
      "S&P 500                 float64\n",
      "Home Price Index        float64\n",
      "Unemployed Rate         float64\n",
      "Real Personal Income    float64\n",
      "Retail Sales            float64\n",
      "CPI                     float64\n",
      "dtype: object\n",
      "                      Food Expenditures      DATE       GDP   S&P 500  \\\n",
      "Food Expenditures              1.000000  0.959797  0.967718  0.967858   \n",
      "DATE                           0.959797  1.000000  0.962011  0.950977   \n",
      "GDP                            0.967718  0.962011  1.000000  0.960462   \n",
      "S&P 500                        0.967858  0.950977  0.960462  1.000000   \n",
      "Home Price Index               0.984239  0.944131  0.983817  0.964754   \n",
      "Unemployed Rate               -0.224710 -0.321067 -0.442434 -0.314800   \n",
      "Real Personal Income           0.912266  0.956119  0.868517  0.900390   \n",
      "Retail Sales                   0.968568  0.919483  0.981261  0.962242   \n",
      "CPI                            0.973996  0.927074  0.981258  0.934073   \n",
      "\n",
      "                      Home Price Index  Unemployed Rate  Real Personal Income  \\\n",
      "Food Expenditures             0.984239        -0.224710              0.912266   \n",
      "DATE                          0.944131        -0.321067              0.956119   \n",
      "GDP                           0.983817        -0.442434              0.868517   \n",
      "S&P 500                       0.964754        -0.314800              0.900390   \n",
      "Home Price Index              1.000000        -0.334121              0.859585   \n",
      "Unemployed Rate              -0.334121         1.000000             -0.134606   \n",
      "Real Personal Income          0.859585        -0.134606              1.000000   \n",
      "Retail Sales                  0.989643        -0.378948              0.832237   \n",
      "CPI                           0.987794        -0.338865              0.829793   \n",
      "\n",
      "                      Retail Sales       CPI  \n",
      "Food Expenditures         0.968568  0.973996  \n",
      "DATE                      0.919483  0.927074  \n",
      "GDP                       0.981261  0.981258  \n",
      "S&P 500                   0.962242  0.934073  \n",
      "Home Price Index          0.989643  0.987794  \n",
      "Unemployed Rate          -0.378948 -0.338865  \n",
      "Real Personal Income      0.832237  0.829793  \n",
      "Retail Sales              1.000000  0.978597  \n",
      "CPI                       0.978597  1.000000  \n"
     ]
    }
   ],
   "source": [
    "# Check the data types for the variables\n",
    "print(data.dtypes)\n",
    "\n",
    "# Convert date into Unix timestamp\n",
    "data['DATE'] = pd.to_datetime(data['DATE']).astype(int)/10**9\n",
    "\n",
    "print(data.dtypes)\n",
    "\n",
    "# Calculate correlation matrix\n",
    "corr_matrix = data[['Food Expenditures', 'DATE', 'GDP', 'S&P 500', 'Home Price Index', \n",
    "                    'Unemployed Rate', 'Real Personal Income', 'Retail Sales', 'CPI']].corr()\n",
    "\n",
    "# Print correlation matrix\n",
    "print(corr_matrix)"
   ]
  },
  {
   "cell_type": "code",
   "execution_count": 3,
   "id": "1293b16d",
   "metadata": {
    "scrolled": true
   },
   "outputs": [
    {
     "name": "stdout",
     "output_type": "stream",
     "text": [
      "Food Expenditures       1.000000\n",
      "Home Price Index        0.984239\n",
      "CPI                     0.973996\n",
      "Retail Sales            0.968568\n",
      "S&P 500                 0.967858\n",
      "GDP                     0.967718\n",
      "DATE                    0.959797\n",
      "Real Personal Income    0.912266\n",
      "Unemployed Rate        -0.224710\n",
      "Name: Food Expenditures, dtype: float64\n"
     ]
    }
   ],
   "source": [
    "# Calculate correlation coefficients with food_expenditure\n",
    "corr_coeffs = data.corr()['Food Expenditures'].sort_values(ascending=False)\n",
    "# Print correlation coefficients\n",
    "print(corr_coeffs)"
   ]
  },
  {
   "cell_type": "code",
   "execution_count": 74,
   "id": "5e12eb68",
   "metadata": {},
   "outputs": [
    {
     "name": "stdout",
     "output_type": "stream",
     "text": [
      "GDP                     24.061207\n",
      "S&P 500                  9.768449\n",
      "Home Price Index         3.113232\n",
      "Unemployed Rate         19.435763\n",
      "Real Personal Income    -0.893075\n",
      "Retail Sales            -0.562914\n",
      "CPI                      3.178358\n",
      "dtype: float64\n"
     ]
    },
    {
     "name": "stderr",
     "output_type": "stream",
     "text": [
      "/var/folders/h5/v3qyf40113lctbtb5g8k2k340000gn/T/ipykernel_36015/1597308334.py:4: FutureWarning: Dropping of nuisance columns in DataFrame reductions (with 'numeric_only=None') is deprecated; in a future version this will raise TypeError.  Select only valid columns before calling the reduction.\n",
      "  data = data.fillna(data.mean())\n"
     ]
    }
   ],
   "source": [
    "import statsmodels.api as sm\n",
    "import numpy as np\n",
    "\n",
    "data = data.fillna(data.mean())\n",
    "y= data['Food Expenditures']\n",
    "X= data[['GDP', 'S&P 500', 'Home Price Index', 'Unemployed Rate', 'Real Personal Income', 'Retail Sales', 'CPI']]\n",
    "\n",
    "model = sm.OLS(y,X).fit()\n",
    "\n",
    "coef_std= model.params/model.bse\n",
    "\n",
    "print(coef_std)"
   ]
  },
  {
   "cell_type": "code",
   "execution_count": 76,
   "id": "ab7c7bc7",
   "metadata": {},
   "outputs": [
    {
     "name": "stdout",
     "output_type": "stream",
     "text": [
      "S&P 500                 0.264357\n",
      "Home Price Index        0.084251\n",
      "Unemployed Rate         0.525976\n",
      "Real Personal Income    0.024169\n",
      "Retail Sales            0.015234\n",
      "CPI                     0.086014\n",
      "dtype: float64\n"
     ]
    }
   ],
   "source": [
    "model = sm.OLS(y,X).fit()\n",
    "\n",
    "coef_std = model.params / model.bse\n",
    "\n",
    "coef_abs = abs(coef_std[1:])\n",
    "\n",
    "coef_abs_sum = coef_abs.sum()\n",
    "\n",
    "coef_norm = coef_abs / coef_abs_sum\n",
    "\n",
    "print(coef_norm)"
   ]
  },
  {
   "cell_type": "code",
   "execution_count": 15,
   "id": "980951fe",
   "metadata": {},
   "outputs": [
    {
     "name": "stdout",
     "output_type": "stream",
     "text": [
      "                            OLS Regression Results                            \n",
      "==============================================================================\n",
      "Dep. Variable:      Food Expenditures   R-squared:                       0.994\n",
      "Model:                            OLS   Adj. R-squared:                  0.993\n",
      "Method:                 Least Squares   F-statistic:                     777.0\n",
      "Date:                Sat, 25 Mar 2023   Prob (F-statistic):           1.00e-34\n",
      "Time:                        22:04:09   Log-Likelihood:                -153.62\n",
      "No. Observations:                  41   AIC:                             323.2\n",
      "Df Residuals:                      33   BIC:                             336.9\n",
      "Df Model:                           7                                         \n",
      "Covariance Type:            nonrobust                                         \n",
      "========================================================================================\n",
      "                           coef    std err          t      P>|t|      [0.025      0.975]\n",
      "----------------------------------------------------------------------------------------\n",
      "const                 -352.4315    170.300     -2.069      0.046    -698.909      -5.955\n",
      "GDP                     -0.0074      0.013     -0.580      0.566      -0.033       0.019\n",
      "S&P 500                  0.0270      0.012      2.241      0.032       0.002       0.052\n",
      "Home Price Index         0.8567      0.465      1.844      0.074      -0.088       1.802\n",
      "Unemployed Rate          4.8120      2.955      1.628      0.113      -1.200      10.824\n",
      "Real Personal Income     0.0197      0.005      3.599      0.001       0.009       0.031\n",
      "Retail Sales          8.234e-05      0.000      0.435      0.666      -0.000       0.000\n",
      "CPI                      3.5342      1.355      2.608      0.014       0.777       6.292\n",
      "==============================================================================\n",
      "Omnibus:                       18.592   Durbin-Watson:                   1.825\n",
      "Prob(Omnibus):                  0.000   Jarque-Bera (JB):               29.187\n",
      "Skew:                           1.261   Prob(JB):                     4.59e-07\n",
      "Kurtosis:                       6.275   Cond. No.                     4.87e+07\n",
      "==============================================================================\n",
      "\n",
      "Notes:\n",
      "[1] Standard Errors assume that the covariance matrix of the errors is correctly specified.\n",
      "[2] The condition number is large, 4.87e+07. This might indicate that there are\n",
      "strong multicollinearity or other numerical problems.\n"
     ]
    }
   ],
   "source": [
    "# Define dependent and independent variables \n",
    "data = data.fillna(data.mean())\n",
    "y= data['Food Expenditures']\n",
    "X= data[['GDP', 'S&P 500', 'Home Price Index', 'Unemployed Rate', 'Real Personal Income', 'Retail Sales', 'CPI']]\n",
    "\n",
    "# Add constant term to independet variables\n",
    "X= sm.add_constant(X)\n",
    "\n",
    "# Fit multiple linear regression model\n",
    "model = sm.OLS(y, X).fit()\n",
    "\n",
    "#print summary of regression result\n",
    "print(model.summary())"
   ]
  },
  {
   "cell_type": "code",
   "execution_count": 6,
   "id": "a0221e91",
   "metadata": {},
   "outputs": [
    {
     "data": {
      "image/png": "[encoded data removed]",
      "text/plain": [
       "<Figure size 432x288 with 1 Axes>"
      ]
     },
     "metadata": {
      "needs_background": "light"
     },
     "output_type": "display_data"
    },
    {
     "name": "stdout",
     "output_type": "stream",
     "text": [
      "Mean Squared Error: 103.68721809086733\n"
     ]
    }
   ],
   "source": [
    "from sklearn.metrics import mean_squared_error\n",
    "#Get the predicted values of the model\n",
    "y_pred= model.predict(X)\n",
    "\n",
    "# Plot the predicted values against the actual values\n",
    "plt.scatter(y, y_pred)\n",
    "plt.xlabel('Actual Food Expenditures')\n",
    "plt.ylabel('Predicted Food Expenditures')\n",
    "plt.title('OLS Regression Model')\n",
    "plt.show()\n",
    "\n",
    "mse = mean_squared_error(y, y_pred)\n",
    "\n",
    "print(\"Mean Squared Error:\", mse)"
   ]
  },
  {
   "cell_type": "code",
   "execution_count": 7,
   "id": "356b514e",
   "metadata": {},
   "outputs": [
    {
     "name": "stdout",
     "output_type": "stream",
     "text": [
      "              variables           VIF\n",
      "0                   GDP  12197.642069\n",
      "1               S&P 500    325.994025\n",
      "2      Home Price Index   1689.876666\n",
      "3       Unemployed Rate     57.352612\n",
      "4  Real Personal Income   1411.197878\n",
      "5          Retail Sales   2677.502748\n",
      "6                   CPI   5548.297449\n"
     ]
    }
   ],
   "source": [
    "from statsmodels.stats.outliers_influence import variance_inflation_factor\n",
    "\n",
    "# Split the data into X and y\n",
    "X = data[['GDP', 'S&P 500', 'Home Price Index', 'Unemployed Rate', 'Real Personal Income', 'Retail Sales', 'CPI']]\n",
    "\n",
    "# Calculate the VIF for each independent variable\n",
    "vif = pd.DataFrame()\n",
    "vif[\"variables\"] = X.columns\n",
    "vif[\"VIF\"] = [variance_inflation_factor(X.values, i) for i in range(X.shape[1])]\n",
    "\n",
    "# Print the VIF table\n",
    "print(vif)"
   ]
  },
  {
   "cell_type": "code",
   "execution_count": 8,
   "id": "86494171",
   "metadata": {},
   "outputs": [
    {
     "name": "stdout",
     "output_type": "stream",
     "text": [
      "Mean Squared Error: 649.1351701526798\n",
      "Coefficients: [ 6.00081395e-04  2.24585174e-02  1.85249594e+00  7.13374956e+00\n",
      "  1.69280268e-02  1.73296970e-04 -4.04596799e-01]\n"
     ]
    },
    {
     "data": {
      "image/png": "[encoded data removed]",
      "text/plain": [
       "<Figure size 432x288 with 1 Axes>"
      ]
     },
     "metadata": {
      "needs_background": "light"
     },
     "output_type": "display_data"
    }
   ],
   "source": [
    "from sklearn.linear_model import RidgeCV\n",
    "from sklearn.model_selection import train_test_split\n",
    "from sklearn.metrics import mean_squared_error\n",
    "import numpy as np\n",
    "\n",
    "# split data into training and test sets\n",
    "X_train, X_test, y_train, y_test = train_test_split(X, y, test_size=0.3, random_state=42)\n",
    "\n",
    "# perform ridge regression with cross-validation to tune alpha parameter\n",
    "alphas = np.logspace(-4, 4, 50)\n",
    "ridge_cv = RidgeCV(alphas=alphas, cv=10)\n",
    "ridge_cv.fit(X_train, y_train)\n",
    "\n",
    "# evaluate model performance on test set\n",
    "y_pred = ridge_cv.predict(X_test)\n",
    "mse = mean_squared_error(y_test, y_pred)\n",
    "print(\"Mean Squared Error:\", mse)\n",
    "# print coefficients of independent variables\n",
    "coef = ridge_cv.coef_\n",
    "print(\"Coefficients:\", coef)\n",
    "\n",
    "# plot coefficients\n",
    "import matplotlib.pyplot as plt\n",
    "plt.plot(range(len(coef)), coef)\n",
    "plt.xticks(range(len(coef)), X.columns, rotation=90)\n",
    "plt.show()"
   ]
  },
  {
   "cell_type": "code",
   "execution_count": 9,
   "id": "8184104d",
   "metadata": {},
   "outputs": [
    {
     "data": {
      "text/plain": [
       "<AxesSubplot:xlabel='PC1', ylabel='PC2'>"
      ]
     },
     "execution_count": 9,
     "metadata": {},
     "output_type": "execute_result"
    },
    {
     "data": {
      "image/png": "[encoded data removed]",
      "text/plain": [
       "<Figure size 432x288 with 1 Axes>"
      ]
     },
     "metadata": {
      "needs_background": "light"
     },
     "output_type": "display_data"
    }
   ],
   "source": [
    "from sklearn.decomposition import PCA\n",
    "from sklearn.preprocessing import StandardScaler\n",
    "import seaborn as sns\n",
    "\n",
    "# create a dataframe with your independent variables\n",
    "X = data[['GDP', 'S&P 500', 'Home Price Index', 'Unemployed Rate', 'Real Personal Income', 'Retail Sales', 'CPI']]\n",
    "\n",
    "# standardize the data\n",
    "scaler = StandardScaler()\n",
    "X_scaled = scaler.fit_transform(X)\n",
    "\n",
    "# perform PCA with 2 components\n",
    "pca = PCA(n_components=2)\n",
    "principal_components = pca.fit_transform(X_scaled)\n",
    "\n",
    "# create a new dataframe with the principal components\n",
    "principal_df = pd.DataFrame(data=principal_components, columns=['PC1', 'PC2'])\n",
    "\n",
    "# add the dependent variable 'food expenditures' to the new dataframe\n",
    "principal_df['Food Expenditures'] = data['Food Expenditures']\n",
    "\n",
    "# plot the principal components against the dependent variable\n",
    "sns.scatterplot(data=principal_df, x='PC1', y='PC2', hue='Food Expenditures')"
   ]
  },
  {
   "cell_type": "code",
   "execution_count": 10,
   "id": "4bb0ea2a",
   "metadata": {},
   "outputs": [
    {
     "name": "stdout",
     "output_type": "stream",
     "text": [
      "Variance ratio of PC1: 0.9999\n",
      "Variance ratio of PC2: 0.0001\n",
      "Variance ratio of PC3: 0.0000\n",
      "Variance ratio of PC4: 0.0000\n",
      "Variance ratio of PC5: 0.0000\n",
      "Variance ratio of PC6: 0.0000\n",
      "Variance ratio of PC7: 0.0000\n"
     ]
    }
   ],
   "source": [
    "#  X is data matrix\n",
    "X = data[['GDP', 'S&P 500', 'Home Price Index', 'Unemployed Rate', 'Real Personal Income', 'Retail Sales', 'CPI']]\n",
    "\n",
    "# Create a PCA object with n_components = number of features\n",
    "pca = PCA(n_components=X.shape[1])\n",
    "\n",
    "# Fit PCA on the data matrix X\n",
    "pca.fit(X)\n",
    "\n",
    "# Get the variance ratio of each principal component\n",
    "var_ratio = pca.explained_variance_ratio_\n",
    "\n",
    "# Print the variance ratio of each principal component\n",
    "for i, ratio in enumerate(var_ratio):\n",
    "    print(f\"Variance ratio of PC{i + 1}: {ratio:.4f}\")"
   ]
  },
  {
   "cell_type": "code",
   "execution_count": 16,
   "id": "2b454459",
   "metadata": {},
   "outputs": [
    {
     "name": "stdout",
     "output_type": "stream",
     "text": [
      "                            OLS Regression Results                            \n",
      "==============================================================================\n",
      "Dep. Variable:      Food Expenditures   R-squared:                       0.990\n",
      "Model:                            OLS   Adj. R-squared:                  0.989\n",
      "Method:                 Least Squares   F-statistic:                     1187.\n",
      "Date:                Sat, 25 Mar 2023   Prob (F-statistic):           8.21e-37\n",
      "Time:                        22:10:10   Log-Likelihood:                -164.55\n",
      "No. Observations:                  41   AIC:                             337.1\n",
      "Df Residuals:                      37   BIC:                             344.0\n",
      "Df Model:                           3                                         \n",
      "Covariance Type:            nonrobust                                         \n",
      "===================================================================================\n",
      "                      coef    std err          t      P>|t|      [0.025      0.975]\n",
      "-----------------------------------------------------------------------------------\n",
      "const             -59.6116     51.369     -1.160      0.253    -163.694      44.471\n",
      "GDP                 0.0458      0.004     12.849      0.000       0.039       0.053\n",
      "S&P 500             0.0252      0.010      2.531      0.016       0.005       0.045\n",
      "Unemployed Rate    16.4753      1.485     11.097      0.000      13.467      19.483\n",
      "==============================================================================\n",
      "Omnibus:                        3.459   Durbin-Watson:                   1.252\n",
      "Prob(Omnibus):                  0.177   Jarque-Bera (JB):                2.513\n",
      "Skew:                           0.283   Prob(JB):                        0.285\n",
      "Kurtosis:                       4.073   Cond. No.                     4.79e+05\n",
      "==============================================================================\n",
      "\n",
      "Notes:\n",
      "[1] Standard Errors assume that the covariance matrix of the errors is correctly specified.\n",
      "[2] The condition number is large, 4.79e+05. This might indicate that there are\n",
      "strong multicollinearity or other numerical problems.\n"
     ]
    },
    {
     "data": {
      "image/png": "[encoded data removed]",
      "text/plain": [
       "<Figure size 432x288 with 1 Axes>"
      ]
     },
     "metadata": {
      "needs_background": "light"
     },
     "output_type": "display_data"
    },
    {
     "name": "stdout",
     "output_type": "stream",
     "text": [
      "Mean Squared Error: 179.2706294408747\n"
     ]
    }
   ],
   "source": [
    "# create a new dataframe with the selected principal component and dependent variable\n",
    "data = data.fillna(data.mean())\n",
    "y= data['Food Expenditures']\n",
    "X= data[['GDP','S&P 500','Unemployed Rate']]\n",
    "\n",
    "# Add constant term to independet variables\n",
    "X= sm.add_constant(X)\n",
    "\n",
    "# Fit multiple linear regression model\n",
    "model = sm.OLS(y, X).fit()\n",
    "\n",
    "#print summary of regression result\n",
    "print(model.summary())\n",
    "\n",
    "\n",
    "#Get the predicted values of the model\n",
    "y_pred= model.predict(X)\n",
    "\n",
    "# Plot the predicted values against the actual values\n",
    "plt.scatter(y, y_pred)\n",
    "plt.xlabel('Actual Food Expenditures')\n",
    "plt.ylabel('Predicted Food Expenditures')\n",
    "plt.title('OLS Regression Model')\n",
    "plt.show()\n",
    "\n",
    "mse = mean_squared_error(y, y_pred)\n",
    "\n",
    "print(\"Mean Squared Error:\", mse)"
   ]
  },
  {
   "cell_type": "code",
   "execution_count": 17,
   "id": "0f4ed1ab",
   "metadata": {
    "scrolled": true
   },
   "outputs": [
    {
     "name": "stdout",
     "output_type": "stream",
     "text": [
      "P values: GDP                     0.337249\n",
      "S&P 500                 0.127583\n",
      "Home Price Index        0.000294\n",
      "Unemployed Rate         0.002054\n",
      "Real Personal Income    0.007614\n",
      "Retail Sales            0.874494\n",
      "CPI                     0.094716\n",
      "dtype: float64\n",
      "t values: GDP                     0.973359\n",
      "S&P 500                 1.561857\n",
      "Home Price Index        4.034053\n",
      "Unemployed Rate         3.338065\n",
      "Real Personal Income    2.837419\n",
      "Retail Sales           -0.159148\n",
      "CPI                     1.718959\n",
      "dtype: float64\n"
     ]
    }
   ],
   "source": [
    "import statsmodels.api as sm\n",
    "\n",
    "y= data['Food Expenditures']\n",
    "X= data[['GDP', 'S&P 500', 'Home Price Index', 'Unemployed Rate', 'Real Personal Income', 'Retail Sales', 'CPI']]\n",
    "\n",
    "# Fit the OLS model\n",
    "model = sm.OLS(y, X).fit()\n",
    "\n",
    "# Get the p-values and t-values of the model\n",
    "p_values = model.pvalues\n",
    "t_values = model.tvalues\n",
    "\n",
    "print(\"P values:\", p_values)\n",
    "print(\"t values:\", t_values)"
   ]
  },
  {
   "cell_type": "code",
   "execution_count": 9,
   "id": "6cb13390",
   "metadata": {},
   "outputs": [
    {
     "data": {
      "text/plain": [
       "<AxesSubplot:>"
      ]
     },
     "execution_count": 9,
     "metadata": {},
     "output_type": "execute_result"
    },
    {
     "data": {
      "image/png": "[encoded data removed]",
      "text/plain": [
       "<Figure size 432x288 with 1 Axes>"
      ]
     },
     "metadata": {
      "needs_background": "light"
     },
     "output_type": "display_data"
    }
   ],
   "source": [
    "import pandas as pd\n",
    "import numpy as np\n",
    "import statsmodels.api as sm\n",
    "import matplotlib.pyplot as plt\n",
    "from statsmodels.tsa.ar_model import AutoReg\n",
    "df=pd.read_csv('Project.csv')\n",
    "df['Food Expenditures'].plot()"
   ]
  },
  {
   "cell_type": "code",
   "execution_count": 24,
   "id": "8cd46688",
   "metadata": {},
   "outputs": [
    {
     "name": "stdout",
     "output_type": "stream",
     "text": [
      "P-value:  0.9990476601506094\n"
     ]
    },
    {
     "name": "stderr",
     "output_type": "stream",
     "text": [
      "/Users/kikotsui/opt/anaconda3/lib/python3.9/site-packages/statsmodels/graphics/tsaplots.py:348: FutureWarning: The default method 'yw' can produce PACF values outside of the [-1,1] interval. After 0.13, the default will change tounadjusted Yule-Walker ('ywm'). You can use this method now by setting method='ywm'.\n",
      "  warnings.warn(\n"
     ]
    },
    {
     "data": {
      "image/png": "[encoded data removed]",
      "text/plain": [
       "<Figure size 432x288 with 1 Axes>"
      ]
     },
     "metadata": {
      "needs_background": "light"
     },
     "output_type": "display_data"
    }
   ],
   "source": [
    "from statsmodels.tsa.stattools import adfuller\n",
    "df_stationarityTest = adfuller(df['Food Expenditures'], autolag='AIC')\n",
    "\n",
    "# Check the value of p-value\n",
    "#\n",
    "print(\"P-value: \", df_stationarityTest[1])\n",
    "from statsmodels.graphics.tsaplots import plot_pacf\n",
    "pacf = plot_pacf(df['Food Expenditures'], lags=7)"
   ]
  },
  {
   "cell_type": "code",
   "execution_count": 30,
   "id": "efb147c4",
   "metadata": {},
   "outputs": [
    {
     "name": "stdout",
     "output_type": "stream",
     "text": [
      "                            AutoReg Model Results                             \n",
      "==============================================================================\n",
      "Dep. Variable:      Food Expenditures   No. Observations:                   21\n",
      "Model:                     AutoReg(7)   Log Likelihood                 -34.660\n",
      "Method:               Conditional MLE   S.D. of innovations              2.877\n",
      "Date:                Fri, 28 Apr 2023   AIC                             87.320\n",
      "Time:                        11:45:43   BIC                             93.072\n",
      "Sample:                             7   HQIC                            86.788\n",
      "                                   21                                         \n",
      "========================================================================================\n",
      "                           coef    std err          z      P>|z|      [0.025      0.975]\n",
      "----------------------------------------------------------------------------------------\n",
      "const                  -29.9690     34.633     -0.865      0.387     -97.848      37.910\n",
      "Food Expenditures.L1     0.8348      0.274      3.049      0.002       0.298       1.371\n",
      "Food Expenditures.L2     0.4561      0.345      1.323      0.186      -0.220       1.132\n",
      "Food Expenditures.L3     0.1557      0.351      0.444      0.657      -0.532       0.843\n",
      "Food Expenditures.L4    -0.7105      0.316     -2.245      0.025      -1.331      -0.090\n",
      "Food Expenditures.L5    -0.1440      0.356     -0.404      0.686      -0.842       0.554\n",
      "Food Expenditures.L6     0.4143      0.303      1.369      0.171      -0.179       1.007\n",
      "Food Expenditures.L7     0.0352      0.257      0.137      0.891      -0.469       0.539\n",
      "                                    Roots                                    \n",
      "=============================================================================\n",
      "                  Real          Imaginary           Modulus         Frequency\n",
      "-----------------------------------------------------------------------------\n",
      "AR.1            0.9685           -0.0000j            0.9685           -0.0000\n",
      "AR.2            0.9802           -0.5757j            1.1368           -0.0845\n",
      "AR.3            0.9802           +0.5757j            1.1368            0.0845\n",
      "AR.4           -0.6081           -0.9397j            1.1193           -0.3414\n",
      "AR.5           -0.6081           +0.9397j            1.1193            0.3414\n",
      "AR.6           -1.5138           -0.0000j            1.5138           -0.5000\n",
      "AR.7          -11.9846           -0.0000j           11.9846           -0.5000\n",
      "-----------------------------------------------------------------------------\n"
     ]
    }
   ],
   "source": [
    "#you are creating a train and test set and need to have a large enough sample size if your data is small you may have to adjust the length of the data frame (-102) to a smaller number.\n",
    "\n",
    "# Run the AutoReg Model\n",
    "# Create training and test data\n",
    "train_data = df['Food Expenditures'][:len(df)-20]\n",
    "test_data = df['Food Expenditures'][len(df)-20:]\n",
    "\n",
    "# Instantiate and fit the AR model with training data\n",
    "ar_model = AutoReg(train_data, lags=7).fit()\n",
    "\n",
    "# Print Summary\n",
    "print(ar_model.summary())"
   ]
  },
  {
   "cell_type": "code",
   "execution_count": 31,
   "id": "7f5f868d",
   "metadata": {},
   "outputs": [
    {
     "name": "stdout",
     "output_type": "stream",
     "text": [
      "Durbin-Watson statistic: 2.0476970540035464\n"
     ]
    }
   ],
   "source": [
    "from statsmodels.stats.stattools import durbin_watson\n",
    "\n",
    "# Fit AR model\n",
    "ar_model = AutoReg(train_data, lags=7).fit()\n",
    "\n",
    "# Calculate Durbin-Watson statistic\n",
    "dw = durbin_watson(ar_model.resid)\n",
    "\n",
    "# Print Durbin-Watson statistic\n",
    "print(\"Durbin-Watson statistic:\", dw)"
   ]
  },
  {
   "cell_type": "code",
   "execution_count": 32,
   "id": "a733fe5e",
   "metadata": {},
   "outputs": [
    {
     "name": "stdout",
     "output_type": "stream",
     "text": [
      "DATE                    0\n",
      "Food Expenditures       0\n",
      "GDP                     0\n",
      "S&P 500                 0\n",
      "Home Price Index        0\n",
      "Unemployed Rate         0\n",
      "Real Personal Income    0\n",
      "Retail Sales            0\n",
      "CPI                     0\n",
      "dtype: int64\n"
     ]
    },
    {
     "name": "stderr",
     "output_type": "stream",
     "text": [
      "/var/folders/h5/v3qyf40113lctbtb5g8k2k340000gn/T/ipykernel_36015/1618231002.py:8: FutureWarning: Dropping of nuisance columns in DataFrame reductions (with 'numeric_only=None') is deprecated; in a future version this will raise TypeError.  Select only valid columns before calling the reduction.\n",
      "  data.fillna(data.mean(), inplace=True)\n"
     ]
    },
    {
     "name": "stdout",
     "output_type": "stream",
     "text": [
      "       Food Expenditures           GDP      S&P 500  Home Price Index  \\\n",
      "count         374.000000    374.000000   374.000000        374.000000   \n",
      "mean          741.214171  14230.083636  1593.017059        149.890420   \n",
      "std           244.490313   5194.596136   998.640741         55.595893   \n",
      "min           400.400000   6315.523000   403.690000         76.085000   \n",
      "25%           519.850000   9833.447500   975.945000         98.679750   \n",
      "50%           739.700000  14377.252500  1284.475000        147.816000   \n",
      "75%           918.525000  18171.626250  2055.160000        182.204500   \n",
      "max          1329.800000  26547.644000  4766.180000        305.152000   \n",
      "\n",
      "       Unemployed Rate  Real Personal Income   Retail Sales         CPI  \n",
      "count       374.000000            374.000000     374.000000  374.000000  \n",
      "mean          5.790642          12842.700575  360177.478610  205.736179  \n",
      "std           1.780696           2953.332914  127213.129047   41.277248  \n",
      "min           3.400000           7944.730000  163721.000000  138.300000  \n",
      "25%           4.500000          10622.134500  262604.750000  168.175000  \n",
      "50%           5.400000          12878.869500  354081.000000  207.635000  \n",
      "75%           6.700000          15164.127250  442673.750000  237.472750  \n",
      "max          14.700000          21448.063000  692501.000000  301.648000  \n"
     ]
    },
    {
     "data": {
      "image/png": "[encoded data removed]",
      "text/plain": [
       "<Figure size 864x576 with 9 Axes>"
      ]
     },
     "metadata": {
      "needs_background": "light"
     },
     "output_type": "display_data"
    }
   ],
   "source": [
    "# Load data but bigger sample size\n",
    "data= pd.read_csv('Project Data - monthly.csv')\n",
    "\n",
    "#check for missing values\n",
    "print(data.isnull().sum())\n",
    "\n",
    "#impute missing values with mean\n",
    "data.fillna(data.mean(), inplace=True)\n",
    "\n",
    "#Descriptive statistics\n",
    "desc_stats= data.describe()\n",
    "print(desc_stats)\n",
    "\n",
    "# Plot histograms for each variable\n",
    "data.hist(bins=10, figsize=(12,8))\n",
    "plt.show()"
   ]
  },
  {
   "cell_type": "code",
   "execution_count": 33,
   "id": "4e56c205",
   "metadata": {},
   "outputs": [
    {
     "name": "stdout",
     "output_type": "stream",
     "text": [
      "Food Expenditures       1.000000\n",
      "GDP                     0.994418\n",
      "CPI                     0.992134\n",
      "Retail Sales            0.987473\n",
      "Real Personal Income    0.981336\n",
      "Home Price Index        0.943801\n",
      "S&P 500                 0.913177\n",
      "Unemployed Rate        -0.050280\n",
      "Name: Food Expenditures, dtype: float64\n"
     ]
    }
   ],
   "source": [
    "# Calculate correlation coefficients with food_expenditure\n",
    "corr_coeffs = data.corr()['Food Expenditures'].sort_values(ascending=False)\n",
    "# Print correlation coefficients\n",
    "print(corr_coeffs)"
   ]
  },
  {
   "cell_type": "code",
   "execution_count": 56,
   "id": "d7a6bd25",
   "metadata": {},
   "outputs": [
    {
     "name": "stderr",
     "output_type": "stream",
     "text": [
      "/var/folders/h5/v3qyf40113lctbtb5g8k2k340000gn/T/ipykernel_36015/1766715491.py:2: FutureWarning: Dropping of nuisance columns in DataFrame reductions (with 'numeric_only=None') is deprecated; in a future version this will raise TypeError.  Select only valid columns before calling the reduction.\n",
      "  data = data.fillna(data.mean())\n"
     ]
    },
    {
     "data": {
      "image/png": "[encoded data removed]",
      "text/plain": [
       "<Figure size 432x288 with 1 Axes>"
      ]
     },
     "metadata": {
      "needs_background": "light"
     },
     "output_type": "display_data"
    },
    {
     "name": "stdout",
     "output_type": "stream",
     "text": [
      "                            OLS Regression Results                            \n",
      "==============================================================================\n",
      "Dep. Variable:      Food Expenditures   R-squared:                       0.995\n",
      "Model:                            OLS   Adj. R-squared:                  0.995\n",
      "Method:                 Least Squares   F-statistic:                 1.126e+04\n",
      "Date:                Fri, 28 Apr 2023   Prob (F-statistic):               0.00\n",
      "Time:                        12:22:18   Log-Likelihood:                -1581.3\n",
      "No. Observations:                 374   AIC:                             3179.\n",
      "Df Residuals:                     366   BIC:                             3210.\n",
      "Df Model:                           7                                         \n",
      "Covariance Type:            nonrobust                                         \n",
      "========================================================================================\n",
      "                           coef    std err          t      P>|t|      [0.025      0.975]\n",
      "----------------------------------------------------------------------------------------\n",
      "const                  -89.5902     31.947     -2.804      0.005    -152.412     -26.768\n",
      "GDP                      0.0296      0.003      8.639      0.000       0.023       0.036\n",
      "S&P 500                  0.0411      0.004      9.841      0.000       0.033       0.049\n",
      "Home Price Index         0.2501      0.066      3.802      0.000       0.121       0.379\n",
      "Unemployed Rate         10.9683      0.724     15.157      0.000       9.545      12.391\n",
      "Real Personal Income    -0.0008      0.002     -0.450      0.653      -0.004       0.003\n",
      "Retail Sales            -0.0001      0.000     -1.303      0.194      -0.000    6.79e-05\n",
      "CPI                      1.4669      0.398      3.686      0.000       0.684       2.249\n",
      "==============================================================================\n",
      "Omnibus:                      523.386   Durbin-Watson:                   1.266\n",
      "Prob(Omnibus):                  0.000   Jarque-Bera (JB):           125182.891\n",
      "Skew:                           6.705   Prob(JB):                         0.00\n",
      "Kurtosis:                      91.619   Cond. No.                     1.41e+07\n",
      "==============================================================================\n",
      "\n",
      "Notes:\n",
      "[1] Standard Errors assume that the covariance matrix of the errors is correctly specified.\n",
      "[2] The condition number is large, 1.41e+07. This might indicate that there are\n",
      "strong multicollinearity or other numerical problems.\n"
     ]
    }
   ],
   "source": [
    "# Define dependent and independent variables \n",
    "data = data.fillna(data.mean())\n",
    "y= data['Food Expenditures']\n",
    "X= data[['GDP', 'S&P 500', 'Home Price Index', 'Unemployed Rate', 'Real Personal Income', 'Retail Sales', 'CPI']]\n",
    "\n",
    "# Add constant term to independet variables\n",
    "X= sm.add_constant(X)\n",
    "\n",
    "plt.scatter(x, y)\n",
    "plt.xlabel('Independent Variable')\n",
    "plt.ylabel('Dependent Variable')\n",
    "plt.show()\n",
    "\n",
    "# Fit multiple linear regression model\n",
    "model = sm.OLS(y, X).fit()\n",
    "\n",
    "#print summary of regression result\n",
    "print(model.summary())"
   ]
  },
  {
   "cell_type": "code",
   "execution_count": 35,
   "id": "9a8a5805",
   "metadata": {},
   "outputs": [
    {
     "data": {
      "image/png": "[encoded data removed]",
      "text/plain": [
       "<Figure size 432x288 with 1 Axes>"
      ]
     },
     "metadata": {
      "needs_background": "light"
     },
     "output_type": "display_data"
    },
    {
     "name": "stdout",
     "output_type": "stream",
     "text": [
      "Mean Squared Error: 275.4420336042734\n"
     ]
    }
   ],
   "source": [
    "from sklearn.metrics import mean_squared_error\n",
    "#Get the predicted values of the model\n",
    "y_pred= model.predict(X)\n",
    "\n",
    "# Plot the predicted values against the actual values\n",
    "plt.scatter(y, y_pred)\n",
    "plt.xlabel('Actual Food Expenditures')\n",
    "plt.ylabel('Predicted Food Expenditures')\n",
    "plt.title('OLS Regression Model')\n",
    "plt.show()\n",
    "\n",
    "mse = mean_squared_error(y, y_pred)\n",
    "\n",
    "print(\"Mean Squared Error:\", mse)"
   ]
  },
  {
   "cell_type": "code",
   "execution_count": 36,
   "id": "7263d7d2",
   "metadata": {},
   "outputs": [
    {
     "name": "stdout",
     "output_type": "stream",
     "text": [
      "              variables          VIF\n",
      "0                   GDP   749.895225\n",
      "1               S&P 500    58.660310\n",
      "2      Home Price Index   135.346486\n",
      "3       Unemployed Rate    18.375398\n",
      "4  Real Personal Income   685.659645\n",
      "5          Retail Sales  1881.955387\n",
      "6                   CPI   956.176722\n"
     ]
    }
   ],
   "source": [
    "from statsmodels.stats.outliers_influence import variance_inflation_factor\n",
    "\n",
    "# Split the data into X and y\n",
    "X = data[['GDP', 'S&P 500', 'Home Price Index', 'Unemployed Rate', 'Real Personal Income', 'Retail Sales', 'CPI']]\n",
    "\n",
    "# Calculate the VIF for each independent variable\n",
    "vif = pd.DataFrame()\n",
    "vif[\"variables\"] = X.columns\n",
    "vif[\"VIF\"] = [variance_inflation_factor(X.values, i) for i in range(X.shape[1])]\n",
    "\n",
    "# Print the VIF table\n",
    "print(vif)"
   ]
  },
  {
   "cell_type": "code",
   "execution_count": 37,
   "id": "01a6b1a7",
   "metadata": {},
   "outputs": [
    {
     "name": "stdout",
     "output_type": "stream",
     "text": [
      "Mean Squared Error: 204.18013913318248\n",
      "Coefficients: [ 3.28334853e-02  4.82780247e-02  3.19398472e-01  9.93974110e+00\n",
      " -2.82238872e-03 -4.51521276e-04  1.92726723e+00]\n"
     ]
    },
    {
     "data": {
      "image/png": "[encoded data removed]",
      "text/plain": [
       "<Figure size 432x288 with 1 Axes>"
      ]
     },
     "metadata": {
      "needs_background": "light"
     },
     "output_type": "display_data"
    }
   ],
   "source": [
    "from sklearn.linear_model import RidgeCV\n",
    "from sklearn.model_selection import train_test_split\n",
    "from sklearn.metrics import mean_squared_error\n",
    "import numpy as np\n",
    "\n",
    "# split data into training and test sets\n",
    "X_train, X_test, y_train, y_test = train_test_split(X, y, test_size=0.3, random_state=42)\n",
    "\n",
    "# perform ridge regression with cross-validation to tune alpha parameter\n",
    "alphas = np.logspace(-4, 4, 50)\n",
    "ridge_cv = RidgeCV(alphas=alphas, cv=10)\n",
    "ridge_cv.fit(X_train, y_train)\n",
    "\n",
    "# evaluate model performance on test set\n",
    "y_pred = ridge_cv.predict(X_test)\n",
    "mse = mean_squared_error(y_test, y_pred)\n",
    "print(\"Mean Squared Error:\", mse)\n",
    "# print coefficients of independent variables\n",
    "coef = ridge_cv.coef_\n",
    "print(\"Coefficients:\", coef)\n",
    "\n",
    "# plot coefficients\n",
    "import matplotlib.pyplot as plt\n",
    "plt.plot(range(len(coef)), coef)\n",
    "plt.xticks(range(len(coef)), X.columns, rotation=90)\n",
    "plt.show()"
   ]
  },
  {
   "cell_type": "code",
   "execution_count": 41,
   "id": "c589f09c",
   "metadata": {},
   "outputs": [
    {
     "name": "stdout",
     "output_type": "stream",
     "text": [
      "Variance ratio of PC1: 0.999940\n",
      "Variance ratio of PC2: 0.000043\n",
      "Variance ratio of PC3: 0.000012\n",
      "Variance ratio of PC4: 0.000005\n",
      "Variance ratio of PC5: 0.000000\n",
      "Variance ratio of PC6: 0.000000\n",
      "Variance ratio of PC7: 0.000000\n"
     ]
    }
   ],
   "source": [
    "from sklearn.decomposition import PCA\n",
    "#  X is data matrix\n",
    "X = data[['GDP', 'S&P 500', 'Home Price Index', 'Unemployed Rate', 'Real Personal Income', 'Retail Sales', 'CPI']]\n",
    "\n",
    "# Create a PCA object with n_components = number of features\n",
    "pca = PCA(n_components=X.shape[1])\n",
    "\n",
    "# Fit PCA on the data matrix X\n",
    "pca.fit(X)\n",
    "\n",
    "# Get the variance ratio of each principal component\n",
    "var_ratio = pca.explained_variance_ratio_\n",
    "\n",
    "# Print the variance ratio of each principal component\n",
    "for i, ratio in enumerate(var_ratio):\n",
    "    print(f\"Variance ratio of PC{i + 1}: {ratio:.6f}\")"
   ]
  },
  {
   "cell_type": "code",
   "execution_count": 46,
   "id": "3a33d70f",
   "metadata": {},
   "outputs": [
    {
     "name": "stdout",
     "output_type": "stream",
     "text": [
      "                            OLS Regression Results                            \n",
      "==============================================================================\n",
      "Dep. Variable:      Food Expenditures   R-squared:                       0.995\n",
      "Model:                            OLS   Adj. R-squared:                  0.995\n",
      "Method:                 Least Squares   F-statistic:                 1.915e+04\n",
      "Date:                Fri, 28 Apr 2023   Prob (F-statistic):               0.00\n",
      "Time:                        12:11:08   Log-Likelihood:                -1588.2\n",
      "No. Observations:                 374   AIC:                             3186.\n",
      "Df Residuals:                     369   BIC:                             3206.\n",
      "Df Model:                           4                                         \n",
      "Covariance Type:            nonrobust                                         \n",
      "====================================================================================\n",
      "                       coef    std err          t      P>|t|      [0.025      0.975]\n",
      "------------------------------------------------------------------------------------\n",
      "const               22.9971      4.334      5.307      0.000      14.475      31.519\n",
      "GDP                  0.0400      0.001     62.319      0.000       0.039       0.041\n",
      "S&P 500              0.0312      0.003     12.470      0.000       0.026       0.036\n",
      "Home Price Index     0.1811      0.053      3.393      0.001       0.076       0.286\n",
      "Unemployed Rate     12.5283      0.575     21.787      0.000      11.398      13.659\n",
      "==============================================================================\n",
      "Omnibus:                      524.104   Durbin-Watson:                   1.197\n",
      "Prob(Omnibus):                  0.000   Jarque-Bera (JB):           129526.091\n",
      "Skew:                           6.707   Prob(JB):                         0.00\n",
      "Kurtosis:                      93.177   Cond. No.                     7.54e+04\n",
      "==============================================================================\n",
      "\n",
      "Notes:\n",
      "[1] Standard Errors assume that the covariance matrix of the errors is correctly specified.\n",
      "[2] The condition number is large, 7.54e+04. This might indicate that there are\n",
      "strong multicollinearity or other numerical problems.\n"
     ]
    },
    {
     "name": "stderr",
     "output_type": "stream",
     "text": [
      "/var/folders/h5/v3qyf40113lctbtb5g8k2k340000gn/T/ipykernel_36015/192031399.py:2: FutureWarning: Dropping of nuisance columns in DataFrame reductions (with 'numeric_only=None') is deprecated; in a future version this will raise TypeError.  Select only valid columns before calling the reduction.\n",
      "  data = data.fillna(data.mean())\n"
     ]
    },
    {
     "data": {
      "image/png": "[encoded data removed]",
      "text/plain": [
       "<Figure size 432x288 with 1 Axes>"
      ]
     },
     "metadata": {
      "needs_background": "light"
     },
     "output_type": "display_data"
    },
    {
     "name": "stdout",
     "output_type": "stream",
     "text": [
      "Mean Squared Error: 285.75206558523905\n"
     ]
    }
   ],
   "source": [
    "# create a new dataframe with the selected principal component and dependent variable\n",
    "data = data.fillna(data.mean())\n",
    "y= data['Food Expenditures']\n",
    "X= data[['GDP','S&P 500','Home Price Index', 'Unemployed Rate']]\n",
    "\n",
    "# Add constant term to independet variables\n",
    "X= sm.add_constant(X)\n",
    "\n",
    "# Fit multiple linear regression model\n",
    "model = sm.OLS(y, X).fit()\n",
    "\n",
    "#print summary of regression result\n",
    "print(model.summary())\n",
    "\n",
    "\n",
    "#Get the predicted values of the model\n",
    "y_pred= model.predict(X)\n",
    "\n",
    "# Plot the predicted values against the actual values\n",
    "plt.scatter(y, y_pred)\n",
    "plt.xlabel('Actual Food Expenditures')\n",
    "plt.ylabel('Predicted Food Expenditures')\n",
    "plt.title('OLS Regression Model')\n",
    "plt.show()\n",
    "\n",
    "mse = mean_squared_error(y, y_pred)\n",
    "\n",
    "print(\"Mean Squared Error:\", mse)"
   ]
  },
  {
   "cell_type": "code",
   "execution_count": 47,
   "id": "923c5d99",
   "metadata": {},
   "outputs": [
    {
     "name": "stdout",
     "output_type": "stream",
     "text": [
      "P values: GDP                     1.863356e-77\n",
      "S&P 500                 3.460565e-20\n",
      "Home Price Index        1.995743e-03\n",
      "Unemployed Rate         2.333406e-58\n",
      "Real Personal Income    3.724023e-01\n",
      "Retail Sales            5.738370e-01\n",
      "CPI                     1.606845e-03\n",
      "dtype: float64\n",
      "t values: GDP                     24.061207\n",
      "S&P 500                  9.768449\n",
      "Home Price Index         3.113232\n",
      "Unemployed Rate         19.435763\n",
      "Real Personal Income    -0.893075\n",
      "Retail Sales            -0.562914\n",
      "CPI                      3.178358\n",
      "dtype: float64\n"
     ]
    }
   ],
   "source": [
    "import statsmodels.api as sm\n",
    "\n",
    "y= data['Food Expenditures']\n",
    "X= data[['GDP', 'S&P 500', 'Home Price Index', 'Unemployed Rate', 'Real Personal Income', 'Retail Sales', 'CPI']]\n",
    "\n",
    "# Fit the OLS model\n",
    "model = sm.OLS(y, X).fit()\n",
    "\n",
    "# Get the p-values and t-values of the model\n",
    "p_values = model.pvalues\n",
    "t_values = model.tvalues\n",
    "\n",
    "print(\"P values:\", p_values)\n",
    "print(\"t values:\", t_values)"
   ]
  },
  {
   "cell_type": "code",
   "execution_count": 48,
   "id": "3196fc80",
   "metadata": {},
   "outputs": [
    {
     "data": {
      "text/plain": [
       "<AxesSubplot:>"
      ]
     },
     "execution_count": 48,
     "metadata": {},
     "output_type": "execute_result"
    },
    {
     "data": {
      "image/png": "[encoded data removed]",
      "text/plain": [
       "<Figure size 432x288 with 1 Axes>"
      ]
     },
     "metadata": {
      "needs_background": "light"
     },
     "output_type": "display_data"
    }
   ],
   "source": [
    "import pandas as pd\n",
    "import numpy as np\n",
    "import statsmodels.api as sm\n",
    "import matplotlib.pyplot as plt\n",
    "from statsmodels.tsa.ar_model import AutoReg\n",
    "df=pd.read_csv('Project Data - monthly.csv')\n",
    "df['Food Expenditures'].plot()"
   ]
  },
  {
   "cell_type": "code",
   "execution_count": 49,
   "id": "27bf2440",
   "metadata": {},
   "outputs": [
    {
     "name": "stdout",
     "output_type": "stream",
     "text": [
      "P-value:  1.0\n"
     ]
    },
    {
     "name": "stderr",
     "output_type": "stream",
     "text": [
      "/Users/kikotsui/opt/anaconda3/lib/python3.9/site-packages/statsmodels/graphics/tsaplots.py:348: FutureWarning: The default method 'yw' can produce PACF values outside of the [-1,1] interval. After 0.13, the default will change tounadjusted Yule-Walker ('ywm'). You can use this method now by setting method='ywm'.\n",
      "  warnings.warn(\n"
     ]
    },
    {
     "data": {
      "image/png": "[encoded data removed]",
      "text/plain": [
       "<Figure size 432x288 with 1 Axes>"
      ]
     },
     "metadata": {
      "needs_background": "light"
     },
     "output_type": "display_data"
    }
   ],
   "source": [
    "from statsmodels.tsa.stattools import adfuller\n",
    "df_stationarityTest = adfuller(df['Food Expenditures'], autolag='AIC')\n",
    "\n",
    "# Check the value of p-value\n",
    "#\n",
    "print(\"P-value: \", df_stationarityTest[1])\n",
    "from statsmodels.graphics.tsaplots import plot_pacf\n",
    "pacf = plot_pacf(df['Food Expenditures'], lags=7)"
   ]
  },
  {
   "cell_type": "code",
   "execution_count": 51,
   "id": "5b06d171",
   "metadata": {},
   "outputs": [
    {
     "name": "stdout",
     "output_type": "stream",
     "text": [
      "                            AutoReg Model Results                             \n",
      "==============================================================================\n",
      "Dep. Variable:      Food Expenditures   No. Observations:                  354\n",
      "Model:                     AutoReg(7)   Log Likelihood               -1375.486\n",
      "Method:               Conditional MLE   S.D. of innovations             12.743\n",
      "Date:                Fri, 28 Apr 2023   AIC                           2768.972\n",
      "Time:                        12:13:01   BIC                           2803.616\n",
      "Sample:                             7   HQIC                          2782.766\n",
      "                                  354                                         \n",
      "========================================================================================\n",
      "                           coef    std err          z      P>|z|      [0.025      0.975]\n",
      "----------------------------------------------------------------------------------------\n",
      "const                   -1.2705      2.421     -0.525      0.600      -6.016       3.475\n",
      "Food Expenditures.L1     0.3258      0.053      6.104      0.000       0.221       0.430\n",
      "Food Expenditures.L2     0.3531      0.056      6.284      0.000       0.243       0.463\n",
      "Food Expenditures.L3     0.1798      0.059      3.027      0.002       0.063       0.296\n",
      "Food Expenditures.L4     0.0769      0.060      1.271      0.204      -0.042       0.195\n",
      "Food Expenditures.L5    -0.0653      0.060     -1.093      0.274      -0.182       0.052\n",
      "Food Expenditures.L6     0.0292      0.057      0.512      0.609      -0.082       0.141\n",
      "Food Expenditures.L7     0.1101      0.055      1.998      0.046       0.002       0.218\n",
      "                                    Roots                                    \n",
      "=============================================================================\n",
      "                  Real          Imaginary           Modulus         Frequency\n",
      "-----------------------------------------------------------------------------\n",
      "AR.1            0.9961           -0.0000j            0.9961           -0.0000\n",
      "AR.2            1.0961           -1.0299j            1.5040           -0.1200\n",
      "AR.3            1.0961           +1.0299j            1.5040            0.1200\n",
      "AR.4           -0.3542           -1.3165j            1.3634           -0.2918\n",
      "AR.5           -0.3542           +1.3165j            1.3634            0.2918\n",
      "AR.6           -1.3724           -0.5335j            1.4724           -0.4410\n",
      "AR.7           -1.3724           +0.5335j            1.4724            0.4410\n",
      "-----------------------------------------------------------------------------\n"
     ]
    }
   ],
   "source": [
    "#you are creating a train and test set and need to have a large enough sample size if your data is small you may have to adjust the length of the data frame (-102) to a smaller number.\n",
    "\n",
    "# Run the AutoReg Model\n",
    "# Create training and test data\n",
    "train_data = df['Food Expenditures'][:len(df)-20]\n",
    "test_data = df['Food Expenditures'][len(df)-20:]\n",
    "\n",
    "# Instantiate and fit the AR model with training data\n",
    "ar_model = AutoReg(train_data, lags=7).fit()\n",
    "\n",
    "# Print Summary\n",
    "print(ar_model.summary())"
   ]
  },
  {
   "cell_type": "code",
   "execution_count": 52,
   "id": "74055f44",
   "metadata": {},
   "outputs": [
    {
     "name": "stdout",
     "output_type": "stream",
     "text": [
      "Durbin-Watson statistic: 2.033058191548954\n"
     ]
    }
   ],
   "source": [
    "from statsmodels.stats.stattools import durbin_watson\n",
    "\n",
    "# Fit AR model\n",
    "ar_model = AutoReg(train_data, lags=7).fit()\n",
    "\n",
    "# Calculate Durbin-Watson statistic\n",
    "dw = durbin_watson(ar_model.resid)\n",
    "\n",
    "# Print Durbin-Watson statistic\n",
    "print(\"Durbin-Watson statistic:\", dw)"
   ]
  },
  {
   "cell_type": "code",
   "execution_count": 60,
   "id": "468e780a",
   "metadata": {},
   "outputs": [
    {
     "name": "stdout",
     "output_type": "stream",
     "text": [
      "Eliminated features:  ['Unemployed Rate', 'Real Personal Income', 'S&P 500', 'GDP', 'Retail Sales', 'Home Price Index', 'CPI']\n",
      "                            OLS Regression Results                            \n",
      "==============================================================================\n",
      "Dep. Variable:      Food Expenditures   R-squared:                      -0.000\n",
      "Model:                            OLS   Adj. R-squared:                 -0.000\n",
      "Method:                 Least Squares   F-statistic:                       nan\n",
      "Date:                Fri, 28 Apr 2023   Prob (F-statistic):                nan\n",
      "Time:                        12:27:30   Log-Likelihood:                -2586.9\n",
      "No. Observations:                 374   AIC:                             5176.\n",
      "Df Residuals:                     373   BIC:                             5180.\n",
      "Df Model:                           0                                         \n",
      "Covariance Type:            nonrobust                                         \n",
      "==============================================================================\n",
      "                 coef    std err          t      P>|t|      [0.025      0.975]\n",
      "------------------------------------------------------------------------------\n",
      "const        741.2142     12.642     58.630      0.000     716.355     766.073\n",
      "==============================================================================\n",
      "Omnibus:                       28.248   Durbin-Watson:                   0.004\n",
      "Prob(Omnibus):                  0.000   Jarque-Bera (JB):               19.900\n",
      "Skew:                           0.451   Prob(JB):                     4.77e-05\n",
      "Kurtosis:                       2.318   Cond. No.                         1.00\n",
      "==============================================================================\n",
      "\n",
      "Notes:\n",
      "[1] Standard Errors assume that the covariance matrix of the errors is correctly specified.\n"
     ]
    }
   ],
   "source": [
    "import pandas as pd\n",
    "import statsmodels.api as sm\n",
    "from statsmodels.stats.outliers_influence import variance_inflation_factor\n",
    "\n",
    "# Load the dataset\n",
    "df = pd.read_csv('Project Data - monthly.csv')\n",
    "\n",
    "# Extract the independent variables\n",
    "X= data[['GDP', 'S&P 500', 'Home Price Index', 'Unemployed Rate', 'Real Personal Income', 'Retail Sales', 'CPI']]\n",
    "\n",
    "\n",
    "# Calculate the VIF values for each independent variable\n",
    "vif = pd.DataFrame()\n",
    "vif[\"VIF Factor\"] = [variance_inflation_factor(X.values, i) for i in range(X.shape[1])]\n",
    "vif[\"features\"] = X.columns\n",
    "\n",
    "# Identify variables with high VIF values\n",
    "high_vif = vif[vif[\"VIF Factor\"] > 100\n",
    "              ][\"features\"]\n",
    "\n",
    "# Remove highly correlated variables\n",
    "X = X.drop(high_vif, axis=1)\n",
    "\n",
    "# Get the names of the eliminated features\n",
    "eliminated_features = list(set(high_vif) - set(X.columns))\n",
    "\n",
    "# Fit the linear regression model\n",
    "y = df['Food Expenditures']\n",
    "X = sm.add_constant(X)\n",
    "model = sm.OLS(y, X).fit()\n",
    "\n",
    "# Print the model summary and the eliminated features\n",
    "print(\"Eliminated features: \", eliminated_features)\n",
    "print(model.summary())"
   ]
  },
  {
   "cell_type": "code",
   "execution_count": 69,
   "id": "4eca068d",
   "metadata": {},
   "outputs": [
    {
     "name": "stdout",
     "output_type": "stream",
     "text": [
      "Explained variance ratio: [1.00000000e+00 1.21713162e-26]\n"
     ]
    },
    {
     "data": {
      "image/png": "[encoded data removed]",
      "text/plain": [
       "<Figure size 432x288 with 1 Axes>"
      ]
     },
     "metadata": {
      "needs_background": "light"
     },
     "output_type": "display_data"
    }
   ],
   "source": [
    "import pandas as pd\n",
    "from sklearn.decomposition import PCA\n",
    "\n",
    "# Load the dataset\n",
    "df = pd.read_csv('Project Data - monthly.csv')\n",
    "\n",
    "# Convert the date column to numerical format\n",
    "df['DATE'] = pd.to_datetime(df['DATE']).astype(int)\n",
    "\n",
    "# Extract the independent variables\n",
    "\n",
    "\n",
    "X = df.drop('Food Expenditures', axis=1)\n",
    "\n",
    "# Instantiate the PCA class\n",
    "pca = PCA(n_components=2)\n",
    "\n",
    "# Fit the PCA model and transform the data\n",
    "X_pca = pca.fit_transform(X)\n",
    "\n",
    "# Print the variance explained by each principal component\n",
    "print(\"Explained variance ratio:\", pca.explained_variance_ratio_)\n",
    "\n",
    "# Create a scatter plot of the principal components\n",
    "import matplotlib.pyplot as plt\n",
    "plt.scatter(X_pca[:, 0], X_pca[:, 1])\n",
    "plt.xlabel('PC1')\n",
    "plt.ylabel('PC2')\n",
    "plt.show()"
   ]
  },
  {
   "cell_type": "code",
   "execution_count": 73,
   "id": "6c778f46",
   "metadata": {},
   "outputs": [
    {
     "name": "stdout",
     "output_type": "stream",
     "text": [
      "[ 1.00000000e+00  1.80574420e-14  3.04222927e-15  1.78185653e-16\n",
      " -2.17887257e-19  1.02608595e-14  4.33650933e-13  1.44099507e-16]\n",
      "Explained variance by first principal component: 1.0\n"
     ]
    }
   ],
   "source": [
    "\n",
    "\n",
    "from sklearn.decomposition import PCA\n",
    "import pandas as pd\n",
    "\n",
    "# Load the dataset\n",
    "df = pd.read_csv('Project Data - monthly.csv')\n",
    "\n",
    "# Convert the date column to numerical format\n",
    "df['DATE'] = pd.to_datetime(df['DATE']).astype(int)\n",
    "\n",
    "# Extract the independent variables\n",
    "X = df.drop('Food Expenditures', axis=1)\n",
    "\n",
    "# Instantiate the PCA class with only one component\n",
    "pca = PCA(n_components=1)\n",
    "\n",
    "# Fit the PCA model and transform the data\n",
    "X_pca = pca.fit_transform(X)\n",
    "\n",
    "# Instantiate the PCA class\n",
    "pca = PCA(n_components=1)\n",
    "\n",
    "# Fit the PCA model and transform the data\n",
    "X_pca = pca.fit_transform(X)\n",
    "\n",
    "# Get the loadings of the variables on the first principal component\n",
    "loadings = pca.components_[0]\n",
    "\n",
    "# Print the loadings\n",
    "print(loadings)\n",
    "\n",
    "# Print the variance explained by the first principal component\n",
    "print(\"Explained variance by first principal component:\", pca.explained_variance_ratio_[0])"
   ]
  },
  {
   "cell_type": "code",
   "execution_count": 77,
   "id": "ea1bb725",
   "metadata": {},
   "outputs": [],
   "source": [
    "import numpy as np #linear algebra\n",
    "import pandas as pd \n",
    "import seaborn as sns #for plotting graphs\n",
    "import matplotlib.pyplot as plt\n",
    "import statsmodels.api as sm\n",
    "from statsmodels.tsa.ar_model import AutoReg"
   ]
  },
  {
   "cell_type": "code",
   "execution_count": 78,
   "id": "3b127a60",
   "metadata": {},
   "outputs": [
    {
     "name": "stdout",
     "output_type": "stream",
     "text": [
      "<class 'pandas.core.frame.DataFrame'>\n",
      "RangeIndex: 374 entries, 0 to 373\n",
      "Data columns (total 9 columns):\n",
      " #   Column                Non-Null Count  Dtype  \n",
      "---  ------                --------------  -----  \n",
      " 0   DATE                  374 non-null    object \n",
      " 1   Food Expenditures     374 non-null    float64\n",
      " 2   GDP                   374 non-null    float64\n",
      " 3   S&P 500               374 non-null    float64\n",
      " 4   Home Price Index      374 non-null    float64\n",
      " 5   Unemployed Rate       374 non-null    float64\n",
      " 6   Real Personal Income  374 non-null    float64\n",
      " 7   Retail Sales          374 non-null    int64  \n",
      " 8   CPI                   374 non-null    float64\n",
      "dtypes: float64(7), int64(1), object(1)\n",
      "memory usage: 26.4+ KB\n"
     ]
    }
   ],
   "source": [
    "df = pd.read_csv('Project Data - monthly.csv')\n",
    "df.info()"
   ]
  },
  {
   "cell_type": "code",
   "execution_count": 79,
   "id": "c5f1a706",
   "metadata": {},
   "outputs": [
    {
     "data": {
      "text/plain": [
       "(374, 9)"
      ]
     },
     "execution_count": 79,
     "metadata": {},
     "output_type": "execute_result"
    }
   ],
   "source": [
    "df.head() # print Head\n",
    "df.shape"
   ]
  },
  {
   "cell_type": "code",
   "execution_count": 80,
   "id": "1666f364",
   "metadata": {},
   "outputs": [
    {
     "data": {
      "text/plain": [
       "DATE                    0\n",
       "Food Expenditures       0\n",
       "GDP                     0\n",
       "S&P 500                 0\n",
       "Home Price Index        0\n",
       "Unemployed Rate         0\n",
       "Real Personal Income    0\n",
       "Retail Sales            0\n",
       "CPI                     0\n",
       "dtype: int64"
      ]
     },
     "execution_count": 80,
     "metadata": {},
     "output_type": "execute_result"
    }
   ],
   "source": [
    "# Any null variables?\n",
    "df.isnull().sum() # There are no missing values in the dataset."
   ]
  },
  {
   "cell_type": "code",
   "execution_count": 81,
   "id": "51d88d58",
   "metadata": {},
   "outputs": [
    {
     "data": {
      "image/png": "[encoded data removed]",
      "text/plain": [
       "<Figure size 432x288 with 1 Axes>"
      ]
     },
     "metadata": {
      "needs_background": "light"
     },
     "output_type": "display_data"
    }
   ],
   "source": [
    "# Scatterplot between dependent variable and independent variables, respectively\n",
    "colors = np.random.rand(len(df))\n",
    "plt.scatter(df['GDP'], df['Food Expenditures'], c=colors, alpha=0.5)\n",
    "plt.xlabel('US GDP (billions)')\n",
    "plt.ylabel('Food Expenditures (millions)')\n",
    "plt.show()"
   ]
  },
  {
   "cell_type": "code",
   "execution_count": 97,
   "id": "580d5cd1",
   "metadata": {},
   "outputs": [
    {
     "name": "stdout",
     "output_type": "stream",
     "text": [
      "                          DATE  Food Expenditures       GDP   S&P 500  \\\n",
      "DATE                  1.000000           0.983335  0.988298  0.866096   \n",
      "Food Expenditures     0.983335           1.000000  0.994418  0.913177   \n",
      "GDP                   0.988298           0.994418  1.000000  0.912963   \n",
      "S&P 500               0.866096           0.913177  0.912963  1.000000   \n",
      "Home Price Index      0.911199           0.943801  0.948490  0.905012   \n",
      "Unemployed Rate      -0.034788          -0.050280 -0.112697 -0.294844   \n",
      "Real Personal Income  0.987767           0.981336  0.983565  0.904530   \n",
      "Retail Sales          0.969151           0.987473  0.992779  0.938015   \n",
      "CPI                   0.992510           0.992134  0.994867  0.878968   \n",
      "\n",
      "                      Home Price Index  Unemployed Rate  Real Personal Income  \\\n",
      "DATE                          0.911199        -0.034788              0.987767   \n",
      "Food Expenditures             0.943801        -0.050280              0.981336   \n",
      "GDP                           0.948490        -0.112697              0.983565   \n",
      "S&P 500                       0.905012        -0.294844              0.904530   \n",
      "Home Price Index              1.000000        -0.200130              0.929083   \n",
      "Unemployed Rate              -0.200130         1.000000             -0.082086   \n",
      "Real Personal Income          0.929083        -0.082086              1.000000   \n",
      "Retail Sales                  0.964120        -0.164622              0.973340   \n",
      "CPI                           0.932767        -0.043294              0.979205   \n",
      "\n",
      "                      Retail Sales       CPI  \n",
      "DATE                      0.969151  0.992510  \n",
      "Food Expenditures         0.987473  0.992134  \n",
      "GDP                       0.992779  0.994867  \n",
      "S&P 500                   0.938015  0.878968  \n",
      "Home Price Index          0.964120  0.932767  \n",
      "Unemployed Rate          -0.164622 -0.043294  \n",
      "Real Personal Income      0.973340  0.979205  \n",
      "Retail Sales              1.000000  0.982955  \n",
      "CPI                       0.982955  1.000000  \n"
     ]
    }
   ],
   "source": [
    "# Defining correlation matrix\n",
    "corr_matrix = df.corr()\n",
    "print(corr_matrix)"
   ]
  },
  {
   "cell_type": "code",
   "execution_count": 83,
   "id": "e340abb9",
   "metadata": {},
   "outputs": [],
   "source": [
    "# Regression 1: All variables \n",
    "# Define the predictor variables and the dependent variable for the regression\n",
    "X = df[['GDP', 'S&P 500', 'Home Price Index', 'Unemployed Rate', 'Real Personal Income', 'Retail Sales', 'CPI']]\n",
    "y = df['Food Expenditures']\n"
   ]
  },
  {
   "cell_type": "code",
   "execution_count": 84,
   "id": "3e3eddcd",
   "metadata": {},
   "outputs": [],
   "source": [
    "# Add a constant term to the predictor variables\n",
    "X = sm.add_constant(X)"
   ]
  },
  {
   "cell_type": "code",
   "execution_count": 85,
   "id": "a5505a7b",
   "metadata": {},
   "outputs": [],
   "source": [
    "# Create a linear regression model\n",
    "model = sm.OLS(y, X).fit()"
   ]
  },
  {
   "cell_type": "code",
   "execution_count": 86,
   "id": "ba140a23",
   "metadata": {},
   "outputs": [
    {
     "name": "stdout",
     "output_type": "stream",
     "text": [
      "const                   -2.804359\n",
      "GDP                      8.639437\n",
      "S&P 500                  9.840898\n",
      "Home Price Index         3.802038\n",
      "Unemployed Rate         15.157339\n",
      "Real Personal Income    -0.450195\n",
      "Retail Sales            -1.302611\n",
      "CPI                      3.686326\n",
      "dtype: float64\n"
     ]
    }
   ],
   "source": [
    "import statsmodels.api as sm\n",
    "import numpy as np\n",
    "\n",
    "# this will print the standarized coeff\n",
    "# Create a linear regression model\n",
    "model = sm.OLS(y, X).fit()\n",
    "\n",
    "# Obtain standardized coefficients\n",
    "coef_std = model.params / model.bse\n",
    "\n",
    "# Print the standardized coefficients\n",
    "print(coef_std)"
   ]
  },
  {
   "cell_type": "code",
   "execution_count": 87,
   "id": "5172bb33",
   "metadata": {},
   "outputs": [
    {
     "name": "stdout",
     "output_type": "stream",
     "text": [
      "GDP                     0.201485\n",
      "S&P 500                 0.229505\n",
      "Home Price Index        0.088669\n",
      "Unemployed Rate         0.353492\n",
      "Real Personal Income    0.010499\n",
      "Retail Sales            0.030379\n",
      "CPI                     0.085971\n",
      "dtype: float64\n"
     ]
    }
   ],
   "source": [
    "#This code will convert realtive contributions to a weight\n",
    "# Create a linear regression model\n",
    "model = sm.OLS(y, X).fit()\n",
    "\n",
    "# Obtain standardized coefficients\n",
    "coef_std = model.params / model.bse\n",
    "\n",
    "# Take the absolute value of each coefficient, excluding the constant term\n",
    "coef_abs = abs(coef_std[1:])\n",
    "\n",
    "# Sum the absolute values\n",
    "coef_abs_sum = coef_abs.sum()\n",
    "\n",
    "# Divide each coefficient by the sum of absolute values\n",
    "coef_norm = coef_abs / coef_abs_sum\n",
    "\n",
    "# Print the normalized coefficients\n",
    "print(coef_norm)"
   ]
  },
  {
   "cell_type": "code",
   "execution_count": 88,
   "id": "b6eabb2c",
   "metadata": {},
   "outputs": [
    {
     "name": "stdout",
     "output_type": "stream",
     "text": [
      "                            OLS Regression Results                            \n",
      "==============================================================================\n",
      "Dep. Variable:      Food Expenditures   R-squared:                       0.995\n",
      "Model:                            OLS   Adj. R-squared:                  0.995\n",
      "Method:                 Least Squares   F-statistic:                 1.126e+04\n",
      "Date:                Thu, 04 May 2023   Prob (F-statistic):               0.00\n",
      "Time:                        19:46:17   Log-Likelihood:                -1581.3\n",
      "No. Observations:                 374   AIC:                             3179.\n",
      "Df Residuals:                     366   BIC:                             3210.\n",
      "Df Model:                           7                                         \n",
      "Covariance Type:            nonrobust                                         \n",
      "========================================================================================\n",
      "                           coef    std err          t      P>|t|      [0.025      0.975]\n",
      "----------------------------------------------------------------------------------------\n",
      "const                  -89.5902     31.947     -2.804      0.005    -152.412     -26.768\n",
      "GDP                      0.0296      0.003      8.639      0.000       0.023       0.036\n",
      "S&P 500                  0.0411      0.004      9.841      0.000       0.033       0.049\n",
      "Home Price Index         0.2501      0.066      3.802      0.000       0.121       0.379\n",
      "Unemployed Rate         10.9683      0.724     15.157      0.000       9.545      12.391\n",
      "Real Personal Income    -0.0008      0.002     -0.450      0.653      -0.004       0.003\n",
      "Retail Sales            -0.0001      0.000     -1.303      0.194      -0.000    6.79e-05\n",
      "CPI                      1.4669      0.398      3.686      0.000       0.684       2.249\n",
      "==============================================================================\n",
      "Omnibus:                      523.386   Durbin-Watson:                   1.266\n",
      "Prob(Omnibus):                  0.000   Jarque-Bera (JB):           125182.891\n",
      "Skew:                           6.705   Prob(JB):                         0.00\n",
      "Kurtosis:                      91.619   Cond. No.                     1.41e+07\n",
      "==============================================================================\n",
      "\n",
      "Notes:\n",
      "[1] Standard Errors assume that the covariance matrix of the errors is correctly specified.\n",
      "[2] The condition number is large, 1.41e+07. This might indicate that there are\n",
      "strong multicollinearity or other numerical problems.\n"
     ]
    }
   ],
   "source": [
    "# Print the summary statistics for the model\n",
    "print(model.summary())"
   ]
  },
  {
   "cell_type": "code",
   "execution_count": 93,
   "id": "ee2d0e9c",
   "metadata": {},
   "outputs": [
    {
     "name": "stdout",
     "output_type": "stream",
     "text": [
      "                            AutoReg Model Results                             \n",
      "==============================================================================\n",
      "Dep. Variable:      Food Expenditures   No. Observations:                  272\n",
      "Model:                     AutoReg(8)   Log Likelihood                -692.995\n",
      "Method:               Conditional MLE   S.D. of innovations              3.340\n",
      "Date:                Thu, 04 May 2023   AIC                           1405.991\n",
      "Time:                        19:47:32   BIC                           1441.750\n",
      "Sample:                             8   HQIC                          1420.360\n",
      "                                  272                                         \n",
      "========================================================================================\n",
      "                           coef    std err          z      P>|z|      [0.025      0.975]\n",
      "----------------------------------------------------------------------------------------\n",
      "const                    0.6801      0.882      0.771      0.441      -1.049       2.409\n",
      "Food Expenditures.L1     0.5602      0.061      9.225      0.000       0.441       0.679\n",
      "Food Expenditures.L2     0.3304      0.070      4.741      0.000       0.194       0.467\n",
      "Food Expenditures.L3     0.1904      0.073      2.620      0.009       0.048       0.333\n",
      "Food Expenditures.L4     0.0522      0.074      0.709      0.478      -0.092       0.196\n",
      "Food Expenditures.L5    -0.0175      0.074     -0.238      0.812      -0.162       0.127\n",
      "Food Expenditures.L6    -0.0199      0.073     -0.274      0.784      -0.162       0.122\n",
      "Food Expenditures.L7     0.0692      0.070      0.992      0.321      -0.067       0.206\n",
      "Food Expenditures.L8    -0.1631      0.061     -2.688      0.007      -0.282      -0.044\n",
      "                                    Roots                                    \n",
      "=============================================================================\n",
      "                  Real          Imaginary           Modulus         Frequency\n",
      "-----------------------------------------------------------------------------\n",
      "AR.1           -1.1555           -0.5120j            1.2638           -0.4336\n",
      "AR.2           -1.1555           +0.5120j            1.2638            0.4336\n",
      "AR.3           -0.4067           -1.2085j            1.2751           -0.3017\n",
      "AR.4           -0.4067           +1.2085j            1.2751            0.3017\n",
      "AR.5            0.9981           -0.0000j            0.9981           -0.0000\n",
      "AR.6            1.2210           -0.0000j            1.2210           -0.0000\n",
      "AR.7            0.6648           -1.2227j            1.3918           -0.1707\n",
      "AR.8            0.6648           +1.2227j            1.3918            0.1707\n",
      "-----------------------------------------------------------------------------\n"
     ]
    }
   ],
   "source": [
    "# Run the AutoReg Model\n",
    "# Create training and test data\n",
    "train_data = df['Food Expenditures'][:len(df)-102]\n",
    "test_data = df['Food Expenditures'][len(df)-102:]\n",
    "\n",
    "# Instantiate and fit the AR model with training data\n",
    "ar_model = AutoReg(train_data, lags=8).fit()\n",
    "\n",
    "# Print Summary\n",
    "print(ar_model.summary())"
   ]
  },
  {
   "cell_type": "code",
   "execution_count": 94,
   "id": "213f990c",
   "metadata": {},
   "outputs": [
    {
     "name": "stdout",
     "output_type": "stream",
     "text": [
      "Durbin-Watson statistic: 2.0068974156295067\n"
     ]
    }
   ],
   "source": [
    "from statsmodels.stats.stattools import durbin_watson\n",
    "\n",
    "# Fit AR model\n",
    "ar_model = AutoReg(train_data, lags=7).fit()\n",
    "\n",
    "# Calculate Durbin-Watson statistic\n",
    "dw = durbin_watson(ar_model.resid)\n",
    "\n",
    "# Print Durbin-Watson statistic\n",
    "print(\"Durbin-Watson statistic:\", dw)"
   ]
  },
  {
   "cell_type": "code",
   "execution_count": 95,
   "id": "4b1ab3c7",
   "metadata": {},
   "outputs": [
    {
     "name": "stdout",
     "output_type": "stream",
     "text": [
      "Eliminated features:  ['Home Price Index', 'Real Personal Income', 'Retail Sales', 'GDP', 'CPI']\n",
      "                            OLS Regression Results                            \n",
      "==============================================================================\n",
      "Dep. Variable:      Food Expenditures   R-squared:                       0.886\n",
      "Model:                            OLS   Adj. R-squared:                  0.886\n",
      "Method:                 Least Squares   F-statistic:                     1447.\n",
      "Date:                Thu, 04 May 2023   Prob (F-statistic):          5.89e-176\n",
      "Time:                        19:57:53   Log-Likelihood:                -2180.1\n",
      "No. Observations:                 374   AIC:                             4366.\n",
      "Df Residuals:                     371   BIC:                             4378.\n",
      "Df Model:                           2                                         \n",
      "Covariance Type:            nonrobust                                         \n",
      "===================================================================================\n",
      "                      coef    std err          t      P>|t|      [0.025      0.975]\n",
      "-----------------------------------------------------------------------------------\n",
      "const             166.8268     18.508      9.014      0.000     130.433     203.221\n",
      "S&P 500             0.2409      0.004     53.728      0.000       0.232       0.250\n",
      "Unemployed Rate    32.9264      2.514     13.096      0.000      27.982      37.870\n",
      "==============================================================================\n",
      "Omnibus:                        3.953   Durbin-Watson:                   0.225\n",
      "Prob(Omnibus):                  0.139   Jarque-Bera (JB):                4.012\n",
      "Skew:                          -0.249   Prob(JB):                        0.134\n",
      "Kurtosis:                       2.900   Cond. No.                     8.20e+03\n",
      "==============================================================================\n",
      "\n",
      "Notes:\n",
      "[1] Standard Errors assume that the covariance matrix of the errors is correctly specified.\n",
      "[2] The condition number is large, 8.2e+03. This might indicate that there are\n",
      "strong multicollinearity or other numerical problems.\n"
     ]
    }
   ],
   "source": [
    "# Extract the independent variables\n",
    "X= data[['GDP', 'S&P 500', 'Home Price Index', 'Unemployed Rate', 'Real Personal Income', 'Retail Sales', 'CPI']]\n",
    "\n",
    "\n",
    "# Calculate the VIF values for each independent variable\n",
    "vif = pd.DataFrame()\n",
    "vif[\"VIF Factor\"] = [variance_inflation_factor(X.values, i) for i in range(X.shape[1])]\n",
    "vif[\"features\"] = X.columns\n",
    "\n",
    "# Identify variables with high VIF values\n",
    "high_vif = vif[vif[\"VIF Factor\"] > 100\n",
    "              ][\"features\"]\n",
    "\n",
    "# Remove highly correlated variables\n",
    "X = X.drop(high_vif, axis=1)\n",
    "\n",
    "# Get the names of the eliminated features\n",
    "eliminated_features = list(set(high_vif) - set(X.columns))\n",
    "\n",
    "# Fit the linear regression model\n",
    "y = df['Food Expenditures']\n",
    "X = sm.add_constant(X)\n",
    "model = sm.OLS(y, X).fit()\n",
    "\n",
    "# Print the model summary and the eliminated features\n",
    "print(\"Eliminated features: \", eliminated_features)\n",
    "print(model.summary())"
   ]
  },
  {
   "cell_type": "code",
   "execution_count": 96,
   "id": "3f6dcb70",
   "metadata": {},
   "outputs": [
    {
     "name": "stdout",
     "output_type": "stream",
     "text": [
      "[ 1.00000000e+00  1.80574420e-14  3.04222927e-15  1.78185653e-16\n",
      " -2.17887257e-19  1.02608595e-14  4.33650933e-13  1.44099507e-16]\n",
      "Explained variance by first principal component: 1.0\n"
     ]
    }
   ],
   "source": [
    "from sklearn.decomposition import PCA\n",
    "import pandas as pd\n",
    "\n",
    "# Load the dataset\n",
    "df = pd.read_csv('Project Data - monthly.csv')\n",
    "\n",
    "# Convert the date column to numerical format\n",
    "df['DATE'] = pd.to_datetime(df['DATE']).astype(int)\n",
    "\n",
    "# Extract the independent variables\n",
    "X = df.drop('Food Expenditures', axis=1)\n",
    "\n",
    "# Instantiate the PCA class with only one component\n",
    "pca = PCA(n_components=1)\n",
    "\n",
    "# Fit the PCA model and transform the data\n",
    "X_pca = pca.fit_transform(X)\n",
    "\n",
    "# Instantiate the PCA class\n",
    "pca = PCA(n_components=1)\n",
    "\n",
    "# Fit the PCA model and transform the data\n",
    "X_pca = pca.fit_transform(X)\n",
    "\n",
    "# Get the loadings of the variables on the first principal component\n",
    "loadings = pca.components_[0]\n",
    "\n",
    "# Print the loadings\n",
    "print(loadings)\n",
    "\n",
    "# Print the variance explained by the first principal component\n",
    "print(\"Explained variance by first principal component:\", pca.explained_variance_ratio_[0])"
   ]
  },
  {
   "cell_type": "code",
   "execution_count": 98,
   "id": "16fa44f0",
   "metadata": {},
   "outputs": [
    {
     "name": "stdout",
     "output_type": "stream",
     "text": [
      "              variables          VIF\n",
      "0                   GDP   749.895225\n",
      "1               S&P 500    58.660310\n",
      "2      Home Price Index   135.346486\n",
      "3       Unemployed Rate    18.375398\n",
      "4  Real Personal Income   685.659645\n",
      "5          Retail Sales  1881.955387\n",
      "6                   CPI   956.176722\n"
     ]
    }
   ],
   "source": [
    "from statsmodels.stats.outliers_influence import variance_inflation_factor\n",
    "\n",
    "# Split the data into X and y\n",
    "X = data[['GDP', 'S&P 500', 'Home Price Index', 'Unemployed Rate', 'Real Personal Income', 'Retail Sales', 'CPI']]\n",
    "\n",
    "# Calculate the VIF for each independent variable\n",
    "vif = pd.DataFrame()\n",
    "vif[\"variables\"] = X.columns\n",
    "vif[\"VIF\"] = [variance_inflation_factor(X.values, i) for i in range(X.shape[1])]\n",
    "\n",
    "# Print the VIF table\n",
    "print(vif)"
   ]
  },
  {
   "cell_type": "code",
   "execution_count": 108,
   "id": "8a3a53d9",
   "metadata": {},
   "outputs": [
    {
     "name": "stdout",
     "output_type": "stream",
     "text": [
      "Mean Squared Error: 165.9609\n",
      "Relative Error: 0.0163\n",
      "Squared Error: 165.9609\n",
      "[[1.         0.99745721]\n",
      " [0.99745721 1.        ]]\n"
     ]
    }
   ],
   "source": [
    "from sklearn.model_selection import train_test_split\n",
    "\n",
    "# Assuming X contains your features and y contains your target variable\n",
    "X_train, X_test, y_train, y_test = train_test_split(X, y, test_size=0.2, random_state=42)\n",
    "\n",
    "from sklearn.linear_model import LinearRegression\n",
    "\n",
    "# Assuming your regression model is a LinearRegression model\n",
    "regression_model = LinearRegression()\n",
    "\n",
    "# Train the model on the training set\n",
    "regression_model.fit(X_train, y_train)\n",
    "\n",
    "# Predict the target variable for the testing set\n",
    "y_pred = regression_model.predict(X_test)\n",
    "\n",
    "\n",
    "# Calculate mean squared error\n",
    "mse = np.mean((y_test - y_pred)**2)\n",
    "\n",
    "# Calculate relative error\n",
    "re = np.mean(np.abs(y_test - y_pred) / y_test)\n",
    "\n",
    "# Calculate squared error\n",
    "se = np.mean((y_test - y_pred)**2)\n",
    "\n",
    "# Calculate squared correlation\n",
    "corr = np.corrcoef(y_test, y_pred)**2\n",
    "\n",
    "print(f\"Mean Squared Error: {mse:.4f}\")\n",
    "print(f\"Relative Error: {re:.4f}\")\n",
    "print(f\"Squared Error: {se:.4f}\")\n",
    "print(corr)\n"
   ]
  },
  {
   "cell_type": "code",
   "execution_count": null,
   "id": "2e9ece8c",
   "metadata": {},
   "outputs": [],
   "source": []
  }
 ],
 "metadata": {
  "kernelspec": {
   "display_name": "Python 3 (ipykernel)",
   "language": "python",
   "name": "python3"
  },
  "language_info": {
   "codemirror_mode": {
    "name": "ipython",
    "version": 3
   },
   "file_extension": ".py",
   "mimetype": "text/x-python",
   "name": "python",
   "nbconvert_exporter": "python",
   "pygments_lexer": "ipython3",
   "version": "3.9.12"
  }
 },
 "nbformat": 4,
 "nbformat_minor": 5
}
